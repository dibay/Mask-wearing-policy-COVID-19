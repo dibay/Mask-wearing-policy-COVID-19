{
 "cells": [
  {
   "cell_type": "markdown",
   "metadata": {},
   "source": [
    "$\\Large Motivation:$\n",
    "\n",
    "We are living in a critical era as the number of the new COVID_19 cases and death due to this lethal virus is increasing worldwide and in the US. Now COVID-19 is the third cause of death in the US. Mask wearing is recommended as a preventative measures to subside the spread of this virus. However, sixteen states have very limited mask wearing requirements and one state (South Dacota) has absolutely no requirement. In this project I am trying to evaluate the effect of mask policy on COVID-19 cases. To do so I will focus on the data from two neighbor states (Georgia and Alabama) with different policies to minimize the effect of other factors (e.g. weather, demographics).\n",
    "\n",
    "$\\Large Dataset:$\n",
    "\n",
    "The \"United States COVID-19 Cases and Deaths by State over Time\" dataset provides detail daily data on the cases and death of COVID-19 for all the states from January to November:\n",
    "\n",
    "URL: https://healthdata.gov/dataset/united-states-covid-19-cases-and-deaths-state-over-time\n",
    "\n",
    "All the data in this dataset is unidentified and there is no way to track back this information. This data is available through a government website. The source should be acknowledged when this data is used for analysis. \n",
    "\n",
    "$\\Large Source:$\n",
    "\n",
    "https://healthdata.gov/harvest_source/datacdcgov\n",
    "\n",
    "$\\Large License:$\n",
    "\n",
    "http://opendefinition.org/licenses/odc-odbl/\n",
    "\n",
    "$\\Large Unknowns:$\n",
    "\n",
    "I tried to think through about the scope of the project when I was searching for the data. I tried to find a data source that is interesting, related to human, and results can be meaningful and applicable to the current situation. However, I also tried to keep in mind that it should be something that is doable in the timeline of this class. I have not started working with the data yet but I think it should be doable. \n",
    "\n",
    "$\\Large Question$ $\\Large and$ $\\Large Hypothesis:$\n",
    "\n",
    "1- What is the trend of new cases from July 17th to November 11th for Georgia and for Alamaba\n",
    "Hypothesis: The hypothesis is that we will see the steeper line for Georgia compared to Alabama since Georgia does not have any mask policy but Alabama had the policy in place since July 17th.\n",
    "\n",
    "\n",
    "2- Is the accumulative number of the new cases more in Georgia compared to Alabama from July 17th to November 11th \n",
    "Hypothesis: The accumulative number of cases are significantly higher in Georgia compared to Alabama\n",
    "\n",
    "3- Is the accumulative number of the death more in Georgia compared to Alabama from July 17th to November 11th \n",
    "Hypothesis: The accumulative number of death are significantly higher in Georgia compared to Alabama\n",
    "\n",
    "\n",
    "$ \\Large Background/$ $\\Large Related$ $\\Large Work$\n",
    "\n",
    "In this project I am trying to understand the impact of the mask wearing policies on new cases and death of COVID-19. So far this virus has had a huge toll all around the world and in the US. Per a WHO report by November 8th, the cumulative number of cases worldwide has been 3,690,495 and the cumulative death has been 1,248,373 (https://www.who.int/publications/m/item/weekly-epidemiological-update---10-november-2020). In the US this toll has been 10,690,665 and 243,580 per CDC report (https://covid.cdc.gov/covid-data-tracker/#cases_casesper100klast7days). This is while mask wearing and social distancing have been offered as the most effective prevention measures (https://www.cdc.gov/coronavirus/2019-ncov/prevent-getting-sick/cloth-face-cover-guidance.html). In this work I am trying to evaluate the effectiveness of the mask policy on new cases and death toll. I chose Georgia and Alabama to investigate the mask wearing policies. Georgia never passed any policy to mandate mask wearing while Alabama mandated mask wearing from July 17th (https://masks4all.co/what-states-require-masks/). These two states are neighbors which helps to control for the differences in weather in addition to other factors such as ethnicity, education that are very similar for two states. Per CDC minorities are at higher risk of COVID-19 (https://www.cdc.gov/coronavirus/2019-ncov/community/health-equity/race-ethnicity.html) and thus it is important to make the comparison of mask mandating policies between states that are similar/close in ethnicity distribution.  \n",
    "Demographic, education, sex distribution data for the two states can be found through following sources:\n",
    "Alabama: https://www.census.gov/quickfacts/AL\n",
    "Georgia: https://www.census.gov/quickfacts/GA\n",
    "\n",
    "\n",
    "$\\Large Methodology: $\n",
    "\n",
    "1- For question 1 I will graph the number of cases per day from July 17th to November 11th for Georgia and Alabama.\n",
    "It gives me the ability to descriptively see the difference in number of new cases over time in these two states from the time that mask wearing got mandatory in Alabama.\n",
    "\n",
    "2- T-test of the cumulative number of cases from July 17th to November 11th to investigate whether there is a significant difference in number of new cases in these two states.\n",
    "\n",
    "3- T-test of the cumulative number of deaths from July 17th to November 11th to investigate whether there is a significant difference in number of new cases in these two states.\n",
    "\n"
   ]
  },
  {
   "cell_type": "code",
   "execution_count": 1,
   "metadata": {},
   "outputs": [],
   "source": [
    "import pandas as pd\n",
    "import numpy as np\n",
    "import matplotlib.pyplot as plt\n",
    "import seaborn as sns\n",
    "import statsmodels.api as sm\n",
    "import statsmodels.formula.api as smf\n",
    "from statsmodels.stats.anova import anova_lm"
   ]
  },
  {
   "cell_type": "markdown",
   "metadata": {},
   "source": [
    "$\\large\\text{Step 1: Select the dataset and perform analysis}$<br>"
   ]
  },
  {
   "cell_type": "code",
   "execution_count": 2,
   "metadata": {},
   "outputs": [],
   "source": [
    "covid_data=  pd.read_csv('/Users/sdibay/Downloads/United_States_COVID-19_Cases_and_Deaths_by_State_over_Time.csv')"
   ]
  },
  {
   "cell_type": "code",
   "execution_count": 3,
   "metadata": {},
   "outputs": [
    {
     "data": {
      "text/html": [
       "<div>\n",
       "<style scoped>\n",
       "    .dataframe tbody tr th:only-of-type {\n",
       "        vertical-align: middle;\n",
       "    }\n",
       "\n",
       "    .dataframe tbody tr th {\n",
       "        vertical-align: top;\n",
       "    }\n",
       "\n",
       "    .dataframe thead th {\n",
       "        text-align: right;\n",
       "    }\n",
       "</style>\n",
       "<table border=\"1\" class=\"dataframe\">\n",
       "  <thead>\n",
       "    <tr style=\"text-align: right;\">\n",
       "      <th></th>\n",
       "      <th>submission_date</th>\n",
       "      <th>state</th>\n",
       "      <th>tot_cases</th>\n",
       "      <th>conf_cases</th>\n",
       "      <th>prob_cases</th>\n",
       "      <th>new_case</th>\n",
       "      <th>pnew_case</th>\n",
       "      <th>tot_death</th>\n",
       "      <th>conf_death</th>\n",
       "      <th>prob_death</th>\n",
       "      <th>new_death</th>\n",
       "      <th>pnew_death</th>\n",
       "      <th>created_at</th>\n",
       "      <th>consent_cases</th>\n",
       "      <th>consent_deaths</th>\n",
       "    </tr>\n",
       "  </thead>\n",
       "  <tbody>\n",
       "    <tr>\n",
       "      <th>0</th>\n",
       "      <td>01/22/2020</td>\n",
       "      <td>CO</td>\n",
       "      <td>0</td>\n",
       "      <td>NaN</td>\n",
       "      <td>NaN</td>\n",
       "      <td>0</td>\n",
       "      <td>NaN</td>\n",
       "      <td>0</td>\n",
       "      <td>NaN</td>\n",
       "      <td>NaN</td>\n",
       "      <td>0</td>\n",
       "      <td>NaN</td>\n",
       "      <td>03/26/2020 04:22:39 PM</td>\n",
       "      <td>Agree</td>\n",
       "      <td>Agree</td>\n",
       "    </tr>\n",
       "    <tr>\n",
       "      <th>1</th>\n",
       "      <td>01/23/2020</td>\n",
       "      <td>CO</td>\n",
       "      <td>0</td>\n",
       "      <td>NaN</td>\n",
       "      <td>NaN</td>\n",
       "      <td>0</td>\n",
       "      <td>NaN</td>\n",
       "      <td>0</td>\n",
       "      <td>NaN</td>\n",
       "      <td>NaN</td>\n",
       "      <td>0</td>\n",
       "      <td>NaN</td>\n",
       "      <td>03/26/2020 04:22:39 PM</td>\n",
       "      <td>Agree</td>\n",
       "      <td>Agree</td>\n",
       "    </tr>\n",
       "    <tr>\n",
       "      <th>2</th>\n",
       "      <td>01/24/2020</td>\n",
       "      <td>CO</td>\n",
       "      <td>0</td>\n",
       "      <td>NaN</td>\n",
       "      <td>NaN</td>\n",
       "      <td>0</td>\n",
       "      <td>NaN</td>\n",
       "      <td>0</td>\n",
       "      <td>NaN</td>\n",
       "      <td>NaN</td>\n",
       "      <td>0</td>\n",
       "      <td>NaN</td>\n",
       "      <td>03/26/2020 04:22:39 PM</td>\n",
       "      <td>Agree</td>\n",
       "      <td>Agree</td>\n",
       "    </tr>\n",
       "    <tr>\n",
       "      <th>3</th>\n",
       "      <td>01/25/2020</td>\n",
       "      <td>CO</td>\n",
       "      <td>0</td>\n",
       "      <td>NaN</td>\n",
       "      <td>NaN</td>\n",
       "      <td>0</td>\n",
       "      <td>NaN</td>\n",
       "      <td>0</td>\n",
       "      <td>NaN</td>\n",
       "      <td>NaN</td>\n",
       "      <td>0</td>\n",
       "      <td>NaN</td>\n",
       "      <td>03/26/2020 04:22:39 PM</td>\n",
       "      <td>Agree</td>\n",
       "      <td>Agree</td>\n",
       "    </tr>\n",
       "    <tr>\n",
       "      <th>4</th>\n",
       "      <td>01/26/2020</td>\n",
       "      <td>CO</td>\n",
       "      <td>0</td>\n",
       "      <td>NaN</td>\n",
       "      <td>NaN</td>\n",
       "      <td>0</td>\n",
       "      <td>NaN</td>\n",
       "      <td>0</td>\n",
       "      <td>NaN</td>\n",
       "      <td>NaN</td>\n",
       "      <td>0</td>\n",
       "      <td>NaN</td>\n",
       "      <td>03/26/2020 04:22:39 PM</td>\n",
       "      <td>Agree</td>\n",
       "      <td>Agree</td>\n",
       "    </tr>\n",
       "  </tbody>\n",
       "</table>\n",
       "</div>"
      ],
      "text/plain": [
       "  submission_date state  tot_cases  conf_cases  prob_cases  new_case  \\\n",
       "0      01/22/2020    CO          0         NaN         NaN         0   \n",
       "1      01/23/2020    CO          0         NaN         NaN         0   \n",
       "2      01/24/2020    CO          0         NaN         NaN         0   \n",
       "3      01/25/2020    CO          0         NaN         NaN         0   \n",
       "4      01/26/2020    CO          0         NaN         NaN         0   \n",
       "\n",
       "   pnew_case  tot_death  conf_death  prob_death  new_death  pnew_death  \\\n",
       "0        NaN          0         NaN         NaN          0         NaN   \n",
       "1        NaN          0         NaN         NaN          0         NaN   \n",
       "2        NaN          0         NaN         NaN          0         NaN   \n",
       "3        NaN          0         NaN         NaN          0         NaN   \n",
       "4        NaN          0         NaN         NaN          0         NaN   \n",
       "\n",
       "               created_at consent_cases consent_deaths  \n",
       "0  03/26/2020 04:22:39 PM         Agree          Agree  \n",
       "1  03/26/2020 04:22:39 PM         Agree          Agree  \n",
       "2  03/26/2020 04:22:39 PM         Agree          Agree  \n",
       "3  03/26/2020 04:22:39 PM         Agree          Agree  \n",
       "4  03/26/2020 04:22:39 PM         Agree          Agree  "
      ]
     },
     "execution_count": 3,
     "metadata": {},
     "output_type": "execute_result"
    }
   ],
   "source": [
    "covid_data.head(5)"
   ]
  },
  {
   "cell_type": "markdown",
   "metadata": {},
   "source": [
    "Drop all states except Georgia and Alabama"
   ]
  },
  {
   "cell_type": "code",
   "execution_count": 4,
   "metadata": {},
   "outputs": [],
   "source": [
    "covid_data_subset = covid_data[(covid_data.state == 'AL')|(covid_data.state == 'GA')]"
   ]
  },
  {
   "cell_type": "code",
   "execution_count": 5,
   "metadata": {},
   "outputs": [
    {
     "name": "stderr",
     "output_type": "stream",
     "text": [
      "<ipython-input-5-c167b098e8ab>:2: SettingWithCopyWarning: \n",
      "A value is trying to be set on a copy of a slice from a DataFrame.\n",
      "Try using .loc[row_indexer,col_indexer] = value instead\n",
      "\n",
      "See the caveats in the documentation: https://pandas.pydata.org/pandas-docs/stable/user_guide/indexing.html#returning-a-view-versus-a-copy\n",
      "  covid_data_subset['submission_date']= pd.to_datetime(covid_data_subset['submission_date'])\n"
     ]
    }
   ],
   "source": [
    "#changing the submission date to date type\n",
    "covid_data_subset['submission_date']= pd.to_datetime(covid_data_subset['submission_date'])"
   ]
  },
  {
   "cell_type": "code",
   "execution_count": 6,
   "metadata": {},
   "outputs": [],
   "source": [
    "#drop rows with date July 17th since this is the date that law in Alabama so we compare cases after this date\n",
    "res= covid_data_subset[covid_data_subset[\"submission_date\"] > '2020-07-17'] \n"
   ]
  },
  {
   "cell_type": "code",
   "execution_count": 7,
   "metadata": {},
   "outputs": [],
   "source": [
    "res= res.reset_index(drop=True)"
   ]
  },
  {
   "cell_type": "code",
   "execution_count": 8,
   "metadata": {},
   "outputs": [],
   "source": [
    "#adding a column called \"time\" as a continuous variable to represent the time for repeated measurments\n",
    "res['time'] = \"\"\n",
    "num=1\n",
    "for i in range(len(res)):\n",
    "    if (res.iloc[[i], [res.columns.get_loc(\"state\")]]=='AL').bool():\n",
    "        res.iloc[[i], [res.columns.get_loc(\"time\")]] = num \n",
    "        num +=1\n",
    "count=1\n",
    "for i in range(len(res)):\n",
    "    if (res.iloc[[i], [res.columns.get_loc(\"state\")]]=='GA').bool():\n",
    "        res.iloc[[i], [res.columns.get_loc(\"time\")]] = count \n",
    "        count +=1"
   ]
  },
  {
   "cell_type": "code",
   "execution_count": 9,
   "metadata": {},
   "outputs": [],
   "source": [
    "# creating a column to calculate new cases per 1000 \n",
    "res['new_case_per1000'] = \"\"\n",
    "for i in range(len(res)):\n",
    "    if (res.iloc[[i], [res.columns.get_loc(\"state\")]]=='AL').bool():\n",
    "        res.iloc[[i], [res.columns.get_loc(\"new_case_per1000\")]] =  res.at[i,'new_case']/4903000.0*1000.0\n",
    "\n",
    "for i in range(len(res)):\n",
    "    if (res.iloc[[i], [res.columns.get_loc(\"state\")]]=='GA').bool():\n",
    "        res.iloc[[i], [res.columns.get_loc(\"new_case_per1000\")]] =  res.at[i,'new_case']/10620000.0*1000.0 "
   ]
  },
  {
   "cell_type": "code",
   "execution_count": 22,
   "metadata": {},
   "outputs": [],
   "source": [
    "res['new_death_per1000'] = \"\"\n",
    "for i in range(len(res)):\n",
    "    if (res.iloc[[i], [res.columns.get_loc(\"state\")]]=='AL').bool():\n",
    "        res.iloc[[i], [res.columns.get_loc(\"new_death_per1000\")]] =  res.at[i,'new_death']/4903000.0*1000.0\n",
    "\n",
    "for i in range(len(res)):\n",
    "    if (res.iloc[[i], [res.columns.get_loc(\"state\")]]=='GA').bool():\n",
    "        res.iloc[[i], [res.columns.get_loc(\"new_death_per1000\")]] =  res.at[i,'new_death']/10620000.0*1000.0 "
   ]
  },
  {
   "cell_type": "code",
   "execution_count": 11,
   "metadata": {},
   "outputs": [
    {
     "data": {
      "text/plain": [
       "<seaborn.axisgrid.FacetGrid at 0x103675e20>"
      ]
     },
     "execution_count": 11,
     "metadata": {},
     "output_type": "execute_result"
    },
    {
     "data": {
      "image/png": "[encoded data removed]",
      "text/plain": [
       "<Figure size 410.625x360 with 1 Axes>"
      ]
     },
     "metadata": {
      "needs_background": "light"
     },
     "output_type": "display_data"
    }
   ],
   "source": [
    "#plotting the distribution of new cases for two states\n",
    "sns.displot(res, x=\"new_case\", hue=\"state\")"
   ]
  },
  {
   "cell_type": "code",
   "execution_count": 21,
   "metadata": {},
   "outputs": [
    {
     "data": {
      "text/plain": [
       "<seaborn.axisgrid.FacetGrid at 0x11a3552b0>"
      ]
     },
     "execution_count": 21,
     "metadata": {},
     "output_type": "execute_result"
    },
    {
     "data": {
      "image/png": "[encoded data removed]",
      "text/plain": [
       "<Figure size 415.6x360 with 1 Axes>"
      ]
     },
     "metadata": {},
     "output_type": "display_data"
    }
   ],
   "source": [
    "sns.displot(res, x=\"new_case_per1000\", hue=\"state\")"
   ]
  },
  {
   "cell_type": "code",
   "execution_count": 12,
   "metadata": {},
   "outputs": [
    {
     "data": {
      "text/plain": [
       "<seaborn.axisgrid.FacetGrid at 0x11a17aa60>"
      ]
     },
     "execution_count": 12,
     "metadata": {},
     "output_type": "execute_result"
    },
    {
     "data": {
      "image/png": "[encoded data removed]",
      "text/plain": [
       "<Figure size 410.625x360 with 1 Axes>"
      ]
     },
     "metadata": {
      "needs_background": "light"
     },
     "output_type": "display_data"
    }
   ],
   "source": [
    "#plotting the distribution of new death for two states\n",
    "sns.displot(res, x=\"new_death\", hue=\"state\")"
   ]
  },
  {
   "cell_type": "code",
   "execution_count": 24,
   "metadata": {},
   "outputs": [
    {
     "data": {
      "text/plain": [
       "<seaborn.axisgrid.FacetGrid at 0x11acc7a00>"
      ]
     },
     "execution_count": 24,
     "metadata": {},
     "output_type": "execute_result"
    },
    {
     "data": {
      "image/png": "[encoded data removed]",
      "text/plain": [
       "<Figure size 415.6x360 with 1 Axes>"
      ]
     },
     "metadata": {},
     "output_type": "display_data"
    }
   ],
   "source": [
    "sns.displot(res, x=\"new_death_per1000\", hue=\"state\")"
   ]
  },
  {
   "cell_type": "code",
   "execution_count": 13,
   "metadata": {},
   "outputs": [
    {
     "data": {
      "text/plain": [
       "<AxesSubplot:xlabel='submission_date', ylabel='new_case'>"
      ]
     },
     "execution_count": 13,
     "metadata": {},
     "output_type": "execute_result"
    },
    {
     "data": {
      "image/png": "[encoded data removed]",
      "text/plain": [
       "<Figure size 842.4x595.44 with 1 Axes>"
      ]
     },
     "metadata": {},
     "output_type": "display_data"
    }
   ],
   "source": [
    "# timeseries graph of the new cases for two states\n",
    "sns.set_theme(style=\"darkgrid\")\n",
    "sns.set_context(\"notebook\", font_scale=0.5, rc={\"lines.linewidth\": 2.5})\n",
    "sns.set(rc={'figure.figsize':(11.7,8.27)})\n",
    "# Load an example dataset with long-form data\n",
    "# Plot the responses for different events and regions\n",
    "sns.lineplot(x=\"submission_date\", y=\"new_case\",\n",
    "             hue=\"state\",\n",
    "             data=res)"
   ]
  },
  {
   "cell_type": "code",
   "execution_count": 87,
   "metadata": {},
   "outputs": [
    {
     "data": {
      "image/png": "[encoded data removed]",
      "text/plain": [
       "<Figure size 842.4x595.44 with 1 Axes>"
      ]
     },
     "metadata": {},
     "output_type": "display_data"
    }
   ],
   "source": [
    "# timeseries graph of the new cases for two states\n",
    "sns.set_theme(style=\"darkgrid\")\n",
    "sns.set_context(\"notebook\", font_scale=0.5, rc={\"lines.linewidth\": 2.5})\n",
    "sns.set(rc={'figure.figsize':(11.7,8.27)})\n",
    "# Load an example dataset with long-form data\n",
    "# Plot the responses for different events and regions\n",
    "g= sns.pointplot(x=\"submission_date\", y=\"new_death\",\n",
    "             hue=\"state\",\n",
    "             data=res)\n",
    "plt.legend(title='States', loc='upper left', labels=['Alabama', 'Georgia'])\n",
    "plt.show(g)"
   ]
  },
  {
   "cell_type": "code",
   "execution_count": 55,
   "metadata": {},
   "outputs": [],
   "source": [
    "# Adding a column to the dataset for the policy. This column is the exposure in the mixed-effect model\n",
    "res['id'] = [2 if x =='AL' else 3 for x in res['state']]\n",
    "res['group'] = [1 if x =='AL' else 0 for x in res['state']]"
   ]
  },
  {
   "cell_type": "code",
   "execution_count": 48,
   "metadata": {},
   "outputs": [],
   "source": [
    "# sum up the cases from july to november to do the t-test\n",
    "new_case_AL= res.loc[res['state'] == 'AL', 'new_case'].sum()\n",
    "# sum up the case cases from july to november to do the t-test\n",
    "new_case_GA= res.loc[res['state'] == 'GA', 'new_case'].sum()"
   ]
  },
  {
   "cell_type": "code",
   "execution_count": 17,
   "metadata": {},
   "outputs": [
    {
     "data": {
      "text/plain": [
       "145484"
      ]
     },
     "execution_count": 17,
     "metadata": {},
     "output_type": "execute_result"
    }
   ],
   "source": [
    "new_case_AL"
   ]
  },
  {
   "cell_type": "code",
   "execution_count": 18,
   "metadata": {},
   "outputs": [
    {
     "data": {
      "text/plain": [
       "242511"
      ]
     },
     "execution_count": 18,
     "metadata": {},
     "output_type": "execute_result"
    }
   ],
   "source": [
    "new_case_GA"
   ]
  },
  {
   "cell_type": "code",
   "execution_count": 86,
   "metadata": {},
   "outputs": [
    {
     "data": {
      "text/html": [
       "<div>\n",
       "<style scoped>\n",
       "    .dataframe tbody tr th:only-of-type {\n",
       "        vertical-align: middle;\n",
       "    }\n",
       "\n",
       "    .dataframe tbody tr th {\n",
       "        vertical-align: top;\n",
       "    }\n",
       "\n",
       "    .dataframe thead th {\n",
       "        text-align: right;\n",
       "    }\n",
       "</style>\n",
       "<table border=\"1\" class=\"dataframe\">\n",
       "  <thead>\n",
       "    <tr style=\"text-align: right;\">\n",
       "      <th></th>\n",
       "      <th>Source</th>\n",
       "      <th>ddof1</th>\n",
       "      <th>ddof2</th>\n",
       "      <th>F</th>\n",
       "      <th>p-unc</th>\n",
       "      <th>np2</th>\n",
       "    </tr>\n",
       "  </thead>\n",
       "  <tbody>\n",
       "    <tr>\n",
       "      <th>0</th>\n",
       "      <td>state</td>\n",
       "      <td>1</td>\n",
       "      <td>232</td>\n",
       "      <td>64.751</td>\n",
       "      <td>0.0</td>\n",
       "      <td>0.218</td>\n",
       "    </tr>\n",
       "  </tbody>\n",
       "</table>\n",
       "</div>"
      ],
      "text/plain": [
       "  Source  ddof1  ddof2       F  p-unc    np2\n",
       "0  state      1    232  64.751    0.0  0.218"
      ]
     },
     "execution_count": 86,
     "metadata": {},
     "output_type": "execute_result"
    }
   ],
   "source": [
    "# Compute the two-way mixed-design ANOVA\n",
    "res.anova(dv=\"new_case\", between=['state']).round(3)"
   ]
  },
  {
   "cell_type": "code",
   "execution_count": 83,
   "metadata": {},
   "outputs": [
    {
     "data": {
      "text/html": [
       "<div>\n",
       "<style scoped>\n",
       "    .dataframe tbody tr th:only-of-type {\n",
       "        vertical-align: middle;\n",
       "    }\n",
       "\n",
       "    .dataframe tbody tr th {\n",
       "        vertical-align: top;\n",
       "    }\n",
       "\n",
       "    .dataframe thead th {\n",
       "        text-align: right;\n",
       "    }\n",
       "</style>\n",
       "<table border=\"1\" class=\"dataframe\">\n",
       "  <thead>\n",
       "    <tr style=\"text-align: right;\">\n",
       "      <th></th>\n",
       "      <th>Source</th>\n",
       "      <th>ddof1</th>\n",
       "      <th>ddof2</th>\n",
       "      <th>F</th>\n",
       "      <th>p-unc</th>\n",
       "      <th>np2</th>\n",
       "    </tr>\n",
       "  </thead>\n",
       "  <tbody>\n",
       "    <tr>\n",
       "      <th>0</th>\n",
       "      <td>state</td>\n",
       "      <td>1</td>\n",
       "      <td>232</td>\n",
       "      <td>38.797</td>\n",
       "      <td>0.0</td>\n",
       "      <td>0.143</td>\n",
       "    </tr>\n",
       "  </tbody>\n",
       "</table>\n",
       "</div>"
      ],
      "text/plain": [
       "  Source  ddof1  ddof2       F  p-unc    np2\n",
       "0  state      1    232  38.797    0.0  0.143"
      ]
     },
     "execution_count": 83,
     "metadata": {},
     "output_type": "execute_result"
    }
   ],
   "source": [
    "res.anova(dv=\"new_death\", between=['state']).round(3)"
   ]
  },
  {
   "cell_type": "code",
   "execution_count": null,
   "metadata": {},
   "outputs": [],
   "source": [
    "df = pd.DataFrame(res)\n",
    "\n",
    "df.at[5783,'state']"
   ]
  },
  {
   "cell_type": "code",
   "execution_count": null,
   "metadata": {},
   "outputs": [],
   "source": [
    "dfpivitod= df.pivot(index='submission_date', columns='state', values='new_case_per1000')\n",
    "respivitod_newcase_per1000 = dfpivitod.replace({0:np.nan})\n",
    "respivitod_newcase_per1000.plot(kind='line', figsize=(12,8), title=\"Monthly Page Views on English Wikipedia (x 10,000,000,000)\")\n"
   ]
  },
  {
   "cell_type": "code",
   "execution_count": null,
   "metadata": {},
   "outputs": [],
   "source": [
    "# sum up the deat from july to november to do the t-test\n",
    "new_death_AL= covid_data_subset.loc[covid_data_subset['state'] == 'AL', 'new_death'].sum()\n",
    "# sum up the death cases from july to november to do the t-test\n",
    "new_death_GA= covid_data_subset.loc[covid_data_subset['state'] == 'GA', 'new_death'].sum()"
   ]
  },
  {
   "cell_type": "code",
   "execution_count": null,
   "metadata": {},
   "outputs": [],
   "source": [
    "new_death_AL"
   ]
  },
  {
   "cell_type": "code",
   "execution_count": null,
   "metadata": {},
   "outputs": [],
   "source": [
    "new_death_GA"
   ]
  },
  {
   "cell_type": "code",
   "execution_count": null,
   "metadata": {},
   "outputs": [],
   "source": [
    "#start the t-test for new case\n",
    "from scipy import stats"
   ]
  },
  {
   "cell_type": "code",
   "execution_count": null,
   "metadata": {},
   "outputs": [],
   "source": [
    "#t-test for new cases\n",
    "#T-test with different means, variance, and n:\n",
    "stats.ttest_ind(covid_data_subset.loc[covid_data_subset['state'] == 'AL', 'new_case'], covid_data_subset.loc[covid_data_subset['state'] == 'GA', 'new_case'])"
   ]
  },
  {
   "cell_type": "code",
   "execution_count": null,
   "metadata": {},
   "outputs": [],
   "source": [
    "#t-test for new death\n",
    "#T-test with different means, variance, and n:\n",
    "stats.ttest_ind(covid_data_subset.loc[covid_data_subset['state'] == 'AL', 'new_death'], covid_data_subset.loc[covid_data_subset['state'] == 'GA', 'new_death'])"
   ]
  },
  {
   "cell_type": "code",
   "execution_count": null,
   "metadata": {},
   "outputs": [],
   "source": [
    "# mixed mode: outcome is new_case, exposure is policy, random effect is state"
   ]
  },
  {
   "cell_type": "code",
   "execution_count": null,
   "metadata": {},
   "outputs": [],
   "source": [
    "md = smf.mixedlm(\"new_case ~ policy\", covid_data_subset, groups=covid_data_subset[\"state\"])\n",
    "\n",
    "mdf = md.fit()\n",
    "print(mdf.summary())"
   ]
  },
  {
   "cell_type": "code",
   "execution_count": null,
   "metadata": {},
   "outputs": [],
   "source": [
    "#random intercept for each state\n",
    "md = smf.mixedlm(\"new_case ~time\", df, groups=df[\"group\"])\n",
    "mdf = md.fit(method=[\"lbfgs\"])\n",
    "print(mdf.summary())"
   ]
  },
  {
   "cell_type": "code",
   "execution_count": null,
   "metadata": {},
   "outputs": [],
   "source": [
    "#random intercept for each state and randome slope for time\n",
    "md2 = smf.mixedlm(\"new_case ~ time\", df, groups=df[\"state\"], re_formula=\"~time\")\n",
    "# mdf2 = md2.fit(method=[\"lbfgs\"])\n",
    "# print(mdf2.summary())"
   ]
  },
  {
   "cell_type": "code",
   "execution_count": null,
   "metadata": {},
   "outputs": [],
   "source": [
    "anova_lm(md)"
   ]
  },
  {
   "cell_type": "code",
   "execution_count": null,
   "metadata": {},
   "outputs": [],
   "source": [
    "sns.displot(covid_data_subset['new_case'],  kde=False, label='GA')"
   ]
  },
  {
   "cell_type": "code",
   "execution_count": null,
   "metadata": {},
   "outputs": [],
   "source": [
    "sns.distplot(covid_data_subset['new_case'],  kde=False,label='AL')\n"
   ]
  },
  {
   "cell_type": "code",
   "execution_count": null,
   "metadata": {},
   "outputs": [],
   "source": [
    "data = sm.datasets.get_rdataset('dietox', 'geepack').data"
   ]
  },
  {
   "cell_type": "code",
   "execution_count": null,
   "metadata": {},
   "outputs": [],
   "source": [
    "data\n"
   ]
  },
  {
   "cell_type": "code",
   "execution_count": null,
   "metadata": {},
   "outputs": [],
   "source": [
    "pd.api.types.is_categorical_dtype(data.Time)"
   ]
  },
  {
   "cell_type": "code",
   "execution_count": null,
   "metadata": {},
   "outputs": [],
   "source": [
    "\n",
    "data = sm.datasets.get_rdataset('dietox', 'geepack').data\n",
    "md = smf.mixedlm(\"Weight ~ Time\", data, groups=data[\"Pig\"])\n",
    "mdf = md.fit(method=[\"lbfgs\"])\n",
    "print(mdf.summary())"
   ]
  },
  {
   "cell_type": "code",
   "execution_count": null,
   "metadata": {},
   "outputs": [],
   "source": [
    "data"
   ]
  },
  {
   "cell_type": "code",
   "execution_count": null,
   "metadata": {},
   "outputs": [],
   "source": [
    "print(type(data['Time']))"
   ]
  },
  {
   "cell_type": "code",
   "execution_count": null,
   "metadata": {},
   "outputs": [],
   "source": [
    "from statsmodels.stats.anova import AnovaRM"
   ]
  },
  {
   "cell_type": "code",
   "execution_count": null,
   "metadata": {},
   "outputs": [],
   "source": [
    "aovrm2way = AnovaRM(df, 'new_case', 'time', within=['group'])\n",
    "res2way = aovrm2way.fit()\n",
    "\n",
    "print(res2way)"
   ]
  },
  {
   "cell_type": "code",
   "execution_count": null,
   "metadata": {},
   "outputs": [],
   "source": [
    "sm.stats.anova_lm(model, typ=2)"
   ]
  },
  {
   "cell_type": "code",
   "execution_count": null,
   "metadata": {},
   "outputs": [],
   "source": []
  },
  {
   "cell_type": "code",
   "execution_count": null,
   "metadata": {},
   "outputs": [],
   "source": [
    "respivitod = respivitod.replace({0:np.nan})\n",
    "respivitod.plot(kind='line', figsize=(12,8), title=\"Monthly Page Views on English Wikipedia (x 10,000,000,000)\")"
   ]
  },
  {
   "cell_type": "code",
   "execution_count": null,
   "metadata": {},
   "outputs": [],
   "source": [
    "respivitod_death = respivitod_death.replace({0:np.nan})\n",
    "respivitod_death.plot(kind='line', figsize=(12,8), title=\"Monthly Page Views on English Wikipedia (x 10,000,000,000)\")"
   ]
  },
  {
   "cell_type": "code",
   "execution_count": null,
   "metadata": {},
   "outputs": [],
   "source": [
    "respivitod_death= res.pivot(index='submission_date', columns='state', values='new_death')"
   ]
  },
  {
   "cell_type": "code",
   "execution_count": null,
   "metadata": {},
   "outputs": [],
   "source": [
    "# pivoting the dataframe from long to wide to be able to draw longitudinal graphs\n",
    "respivitod= res.pivot(index='submission_date', columns='state', values='new_case')"
   ]
  },
  {
   "cell_type": "code",
   "execution_count": 62,
   "metadata": {},
   "outputs": [],
   "source": [
    "data = pg.read_dataset('rm_anova_wide')"
   ]
  },
  {
   "cell_type": "code",
   "execution_count": 64,
   "metadata": {},
   "outputs": [],
   "source": [
    "df = pg.read_dataset('rm_anova')\n"
   ]
  },
  {
   "cell_type": "code",
   "execution_count": 65,
   "metadata": {},
   "outputs": [
    {
     "data": {
      "text/html": [
       "<div>\n",
       "<style scoped>\n",
       "    .dataframe tbody tr th:only-of-type {\n",
       "        vertical-align: middle;\n",
       "    }\n",
       "\n",
       "    .dataframe tbody tr th {\n",
       "        vertical-align: top;\n",
       "    }\n",
       "\n",
       "    .dataframe thead th {\n",
       "        text-align: right;\n",
       "    }\n",
       "</style>\n",
       "<table border=\"1\" class=\"dataframe\">\n",
       "  <thead>\n",
       "    <tr style=\"text-align: right;\">\n",
       "      <th></th>\n",
       "      <th>Subject</th>\n",
       "      <th>Gender</th>\n",
       "      <th>Region</th>\n",
       "      <th>Education</th>\n",
       "      <th>DesireToKill</th>\n",
       "      <th>Disgustingness</th>\n",
       "      <th>Frighteningness</th>\n",
       "    </tr>\n",
       "  </thead>\n",
       "  <tbody>\n",
       "    <tr>\n",
       "      <th>0</th>\n",
       "      <td>1</td>\n",
       "      <td>Female</td>\n",
       "      <td>North</td>\n",
       "      <td>some</td>\n",
       "      <td>10.0</td>\n",
       "      <td>High</td>\n",
       "      <td>High</td>\n",
       "    </tr>\n",
       "    <tr>\n",
       "      <th>1</th>\n",
       "      <td>1</td>\n",
       "      <td>Female</td>\n",
       "      <td>North</td>\n",
       "      <td>some</td>\n",
       "      <td>9.0</td>\n",
       "      <td>High</td>\n",
       "      <td>Low</td>\n",
       "    </tr>\n",
       "    <tr>\n",
       "      <th>2</th>\n",
       "      <td>1</td>\n",
       "      <td>Female</td>\n",
       "      <td>North</td>\n",
       "      <td>some</td>\n",
       "      <td>6.0</td>\n",
       "      <td>Low</td>\n",
       "      <td>High</td>\n",
       "    </tr>\n",
       "    <tr>\n",
       "      <th>3</th>\n",
       "      <td>1</td>\n",
       "      <td>Female</td>\n",
       "      <td>North</td>\n",
       "      <td>some</td>\n",
       "      <td>6.0</td>\n",
       "      <td>Low</td>\n",
       "      <td>Low</td>\n",
       "    </tr>\n",
       "    <tr>\n",
       "      <th>4</th>\n",
       "      <td>2</td>\n",
       "      <td>Female</td>\n",
       "      <td>North</td>\n",
       "      <td>advance</td>\n",
       "      <td>10.0</td>\n",
       "      <td>High</td>\n",
       "      <td>High</td>\n",
       "    </tr>\n",
       "    <tr>\n",
       "      <th>...</th>\n",
       "      <td>...</td>\n",
       "      <td>...</td>\n",
       "      <td>...</td>\n",
       "      <td>...</td>\n",
       "      <td>...</td>\n",
       "      <td>...</td>\n",
       "      <td>...</td>\n",
       "    </tr>\n",
       "    <tr>\n",
       "      <th>367</th>\n",
       "      <td>99</td>\n",
       "      <td>Female</td>\n",
       "      <td>North</td>\n",
       "      <td>some</td>\n",
       "      <td>9.0</td>\n",
       "      <td>Low</td>\n",
       "      <td>Low</td>\n",
       "    </tr>\n",
       "    <tr>\n",
       "      <th>368</th>\n",
       "      <td>100</td>\n",
       "      <td>Female</td>\n",
       "      <td>Europe</td>\n",
       "      <td>some</td>\n",
       "      <td>3.0</td>\n",
       "      <td>High</td>\n",
       "      <td>High</td>\n",
       "    </tr>\n",
       "    <tr>\n",
       "      <th>369</th>\n",
       "      <td>100</td>\n",
       "      <td>Female</td>\n",
       "      <td>Europe</td>\n",
       "      <td>some</td>\n",
       "      <td>2.0</td>\n",
       "      <td>High</td>\n",
       "      <td>Low</td>\n",
       "    </tr>\n",
       "    <tr>\n",
       "      <th>370</th>\n",
       "      <td>100</td>\n",
       "      <td>Female</td>\n",
       "      <td>Europe</td>\n",
       "      <td>some</td>\n",
       "      <td>5.5</td>\n",
       "      <td>Low</td>\n",
       "      <td>High</td>\n",
       "    </tr>\n",
       "    <tr>\n",
       "      <th>371</th>\n",
       "      <td>100</td>\n",
       "      <td>Female</td>\n",
       "      <td>Europe</td>\n",
       "      <td>some</td>\n",
       "      <td>5.5</td>\n",
       "      <td>Low</td>\n",
       "      <td>Low</td>\n",
       "    </tr>\n",
       "  </tbody>\n",
       "</table>\n",
       "<p>372 rows × 7 columns</p>\n",
       "</div>"
      ],
      "text/plain": [
       "     Subject  Gender  Region Education  DesireToKill Disgustingness  \\\n",
       "0          1  Female   North      some          10.0           High   \n",
       "1          1  Female   North      some           9.0           High   \n",
       "2          1  Female   North      some           6.0            Low   \n",
       "3          1  Female   North      some           6.0            Low   \n",
       "4          2  Female   North   advance          10.0           High   \n",
       "..       ...     ...     ...       ...           ...            ...   \n",
       "367       99  Female   North      some           9.0            Low   \n",
       "368      100  Female  Europe      some           3.0           High   \n",
       "369      100  Female  Europe      some           2.0           High   \n",
       "370      100  Female  Europe      some           5.5            Low   \n",
       "371      100  Female  Europe      some           5.5            Low   \n",
       "\n",
       "    Frighteningness  \n",
       "0              High  \n",
       "1               Low  \n",
       "2              High  \n",
       "3               Low  \n",
       "4              High  \n",
       "..              ...  \n",
       "367             Low  \n",
       "368            High  \n",
       "369             Low  \n",
       "370            High  \n",
       "371             Low  \n",
       "\n",
       "[372 rows x 7 columns]"
      ]
     },
     "execution_count": 65,
     "metadata": {},
     "output_type": "execute_result"
    }
   ],
   "source": [
    "df"
   ]
  },
  {
   "cell_type": "code",
   "execution_count": 68,
   "metadata": {},
   "outputs": [],
   "source": [
    "from pingouin import mixed_anova, read_dataset\n",
    "df = read_dataset('mixed_anova')"
   ]
  },
  {
   "cell_type": "code",
   "execution_count": 69,
   "metadata": {},
   "outputs": [
    {
     "data": {
      "text/html": [
       "<div>\n",
       "<style scoped>\n",
       "    .dataframe tbody tr th:only-of-type {\n",
       "        vertical-align: middle;\n",
       "    }\n",
       "\n",
       "    .dataframe tbody tr th {\n",
       "        vertical-align: top;\n",
       "    }\n",
       "\n",
       "    .dataframe thead th {\n",
       "        text-align: right;\n",
       "    }\n",
       "</style>\n",
       "<table border=\"1\" class=\"dataframe\">\n",
       "  <thead>\n",
       "    <tr style=\"text-align: right;\">\n",
       "      <th></th>\n",
       "      <th>Scores</th>\n",
       "      <th>Time</th>\n",
       "      <th>Group</th>\n",
       "      <th>Subject</th>\n",
       "    </tr>\n",
       "  </thead>\n",
       "  <tbody>\n",
       "    <tr>\n",
       "      <th>0</th>\n",
       "      <td>5.971435</td>\n",
       "      <td>August</td>\n",
       "      <td>Control</td>\n",
       "      <td>0</td>\n",
       "    </tr>\n",
       "    <tr>\n",
       "      <th>1</th>\n",
       "      <td>4.309024</td>\n",
       "      <td>August</td>\n",
       "      <td>Control</td>\n",
       "      <td>1</td>\n",
       "    </tr>\n",
       "    <tr>\n",
       "      <th>2</th>\n",
       "      <td>6.932707</td>\n",
       "      <td>August</td>\n",
       "      <td>Control</td>\n",
       "      <td>2</td>\n",
       "    </tr>\n",
       "    <tr>\n",
       "      <th>3</th>\n",
       "      <td>5.187348</td>\n",
       "      <td>August</td>\n",
       "      <td>Control</td>\n",
       "      <td>3</td>\n",
       "    </tr>\n",
       "    <tr>\n",
       "      <th>4</th>\n",
       "      <td>4.779411</td>\n",
       "      <td>August</td>\n",
       "      <td>Control</td>\n",
       "      <td>4</td>\n",
       "    </tr>\n",
       "    <tr>\n",
       "      <th>...</th>\n",
       "      <td>...</td>\n",
       "      <td>...</td>\n",
       "      <td>...</td>\n",
       "      <td>...</td>\n",
       "    </tr>\n",
       "    <tr>\n",
       "      <th>175</th>\n",
       "      <td>6.176981</td>\n",
       "      <td>June</td>\n",
       "      <td>Meditation</td>\n",
       "      <td>55</td>\n",
       "    </tr>\n",
       "    <tr>\n",
       "      <th>176</th>\n",
       "      <td>8.523692</td>\n",
       "      <td>June</td>\n",
       "      <td>Meditation</td>\n",
       "      <td>56</td>\n",
       "    </tr>\n",
       "    <tr>\n",
       "      <th>177</th>\n",
       "      <td>6.522273</td>\n",
       "      <td>June</td>\n",
       "      <td>Meditation</td>\n",
       "      <td>57</td>\n",
       "    </tr>\n",
       "    <tr>\n",
       "      <th>178</th>\n",
       "      <td>4.990568</td>\n",
       "      <td>June</td>\n",
       "      <td>Meditation</td>\n",
       "      <td>58</td>\n",
       "    </tr>\n",
       "    <tr>\n",
       "      <th>179</th>\n",
       "      <td>7.822986</td>\n",
       "      <td>June</td>\n",
       "      <td>Meditation</td>\n",
       "      <td>59</td>\n",
       "    </tr>\n",
       "  </tbody>\n",
       "</table>\n",
       "<p>180 rows × 4 columns</p>\n",
       "</div>"
      ],
      "text/plain": [
       "       Scores    Time       Group  Subject\n",
       "0    5.971435  August     Control        0\n",
       "1    4.309024  August     Control        1\n",
       "2    6.932707  August     Control        2\n",
       "3    5.187348  August     Control        3\n",
       "4    4.779411  August     Control        4\n",
       "..        ...     ...         ...      ...\n",
       "175  6.176981    June  Meditation       55\n",
       "176  8.523692    June  Meditation       56\n",
       "177  6.522273    June  Meditation       57\n",
       "178  4.990568    June  Meditation       58\n",
       "179  7.822986    June  Meditation       59\n",
       "\n",
       "[180 rows x 4 columns]"
      ]
     },
     "execution_count": 69,
     "metadata": {},
     "output_type": "execute_result"
    }
   ],
   "source": [
    "df"
   ]
  },
  {
   "cell_type": "code",
   "execution_count": null,
   "metadata": {},
   "outputs": [],
   "source": [
    "aov = mixed_anova(dv='Scores', between='Group',\n",
    "...                   within='Time', subject='Subject', data=df)"
   ]
  }
 ],
 "metadata": {
  "kernelspec": {
   "display_name": "Python 3",
   "language": "python",
   "name": "python3"
  },
  "language_info": {
   "codemirror_mode": {
    "name": "ipython",
    "version": 3
   },
   "file_extension": ".py",
   "mimetype": "text/x-python",
   "name": "python",
   "nbconvert_exporter": "python",
   "pygments_lexer": "ipython3",
   "version": "3.8.5"
  }
 },
 "nbformat": 4,
 "nbformat_minor": 4
}
