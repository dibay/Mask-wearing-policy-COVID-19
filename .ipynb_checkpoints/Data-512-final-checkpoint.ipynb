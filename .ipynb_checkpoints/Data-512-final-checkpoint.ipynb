{
 "cells": [
  {
   "cell_type": "markdown",
   "metadata": {},
   "source": [
    "# Introduction: \n",
    "\n",
    "We are living in a critical era as the numbers of the new COVID_19 cases and death due to COVID-19 are increasing worldwide and in the US. Mask wearing as part of the social distancing measures is recommended as to subside the spread of this virus. However, twelve states in the US have very limited mask wearing requirements and South Dakota has absolutely no requirement. In this project I am trying to evaluate the effect of mask wearing policy on COVID-19 burden. To do so I will focus on the data from two neighbor states (Georgia and Alabama) with different mask wearing policies to minimize the effect of confounding factors (e.g. weather, demographics).\n",
    "\n",
    "# Background and Related Work:\n",
    "\n",
    "Coronavirus disease 2019 (COVID-19) is caused by a novel coronavirus. It results in severe [acute respiratory syndrome coronavirus 2](https://www.cdc.gov/coronavirus/2019-ncov/cases-updates/about-epidemiology/identifying-source-outbreak.html) (1). This was first identified in an outbreak of respiratory illness cases in Wuhan City, Hubei Province, China (1).Up until now COVID-19 cases are approximately [73 million worldwide including 16 million cases in the United States](https://coronavirus.jhu.edu/map.html) (2). Per a WHO report on November 8th, [new cases has increased by 8%, compared to the previous week while new deaths have increased by 21%](https://www.who.int/publications/m/item/weekly-epidemiological-update---10-november-2020) (3). The global and the US death toll due to COVID-19 by December 15th have been [1,624,819 and 300,723](https://coronavirus.jhu.edu/map.html) respectively (2). \n",
    "\n",
    "Mask wearing as part of the social distancing policies have been suggested as [one of the most effective prevention measures](https://www.cdc.gov/coronavirus/2019-ncov/prevent-getting-sick/cloth-face-cover-guidance.html) (4). However, [12 states in the US have very limited mask wearing policies and one states (South Dakota) has no policy around wearing a mask](https://masks4all.co/what-states-require-masks/) (5). In this project I am trying to understand the impact of the mask wearing policy on the burden (i.e. new daily cases and death) of COVID-19. \n",
    "I chose Georgia and Alabama to investigate the mask wearing policies. Georgia only passed mask wearing policy for certain employees while Alabama mandated mask wearing from July 17th (5). These two states are neighbors which helps controlling for the differences in weather in addition to other factors such as ethnicity, education whcih are very similar for [Georgia](https://www.census.gov/quickfacts/GA) and [Alabama](https://www.census.gov/quickfacts/AL) (6,7). Per CDC [minorities are at higher risk of COVID-19](https://www.cdc.gov/coronavirus/2019-ncov/community/health-equity/race-ethnicity.html) and thus it is important to make the comparison of mask mandating policies between states that are similar/close in ethnicity distribution (8).  \n",
    "\n",
    "\n",
    "# Research Question and Hypothesis:\n",
    "\n",
    "1- What is the trend of new cases from July 17th to November 11th for Georgia and for Alabama\n",
    "It is expected to observe a steeper line for Georgia compared to Alabama since Georgia mask policy is very limited, but Alabama had the policy in place since July 17th.\n",
    "\n",
    "\n",
    "2- Is the number of the new cases more in Georgia compared to Alabama from July 17th to November 11th \n",
    "Hypothesis: The number of cases is significantly higher in Georgia compared to Alabama\n",
    "\n",
    "3- Is the accumulative number of the death more in Georgia compared to Alabama from July 17th to November 11th \n",
    "Hypothesis: The number of deaths is significantly higher in Georgia compared to Alabama\n",
    "\n",
    "\n",
    "# Methodology: \n",
    "\n",
    "### Dataset:\n",
    "\n",
    "The [\"United States COVID-19 Cases and Deaths by State over Time\"](https://healthdata.gov/dataset/united-states-covid-19-cases-and-deaths-state-over-time) dataset provides detail daily data on the cases and death of COVID-19 for all the states from January to November 11th 2020. All the data in this dataset is unidentified and there is no way to track back this information. This data is available through a government website. The source should be acknowledged when this data is used for analysis.\n",
    "Some of the variables in this dataset that will be used in this analysis are as follow:\n",
    "\n",
    "|      |Variables   | Description|\n",
    "|------|------------|------------|\n",
    "|      | state |Name of the state with the data|\n",
    "|      | submission date |The date|\n",
    "|      | new_casw |Number of new cases for the specific date|\n",
    "|      | new_death| Number of new cases for the specific date|\n",
    "\n",
    "\n",
    "\n",
    "### Source:\n",
    "\n",
    "https://healthdata.gov/harvest_source/datacdcgov\n",
    "\n",
    "### License:\n",
    "\n",
    "http://opendefinition.org/licenses/odc-odbl/\n",
    "\n",
    "### Statistical Analysis:\n",
    "\n",
    "All the analysis will be done for July 17th (the day that a comprehensive mask wearing policy got effective in Alabama) to November 11th. The number of new cases and new deaths will be normalized to the population in each state and all the statistics and models will run on the normalized data. [The Georgia’s population estimates by July 1, 2019 is 10,617,423](https://www.census.gov/quickfacts/GA) (6) and [the Alabama’s population estimates by July 1, 2019 is 4,903,185](https://www.census.gov/quickfacts/AL) (7).\n",
    "\n",
    "Descriptive statistics for the two states for new cases and deaths will be provided from July 17th to November 11th. Time series graph will be provided from July 17th to November 11th for Georgia and Alabama to compare the trend between the two states. Repeated measures ANOVA test will be used to compare the numbers of daily new cases and new deaths between the two states. \n",
    "\n",
    "It is important to note that per CDC [\"because these provisional counts are subject to change, including updates to data reported previously, adjustments can occur. These adjustments can result in fewer total numbers of cases and deaths compared with the previous data, which means that new numbers of cases or deaths can include negative values that reflect such adjustments.\"](https://data.cdc.gov/Case-Surveillance/United-States-COVID-19-Cases-and-Deaths-by-State-o/9mfq-cb36) (9). Thus, for the purpose of timeseries graph, the rows with negative number of cases and deaths will be dropped but for ANOVA test where the mean number of the cases and deaths will be testes, no rows will be dropped to account for the adjustment in the number of cases and deaths over time.\n",
    "\n",
    "\n",
    "# Findings:\n",
    "\n",
    "The mean of new daily new cases is higher in Alabama (253.6 daily new cases per 1,000,000) compared to Georgia (195.2 daily new cases per 1,000,000) contrary to what was expected. However, the mean of new daily deaths is less in Alabama compared to Georgia (3.4 vs. 4.6 cases per 1,000,000 respectively). The mean and standard deviations of daily new cases and new deaths are provided in Table 1.  \n",
    "\n",
    "\n",
    "#### Table 1. Descriptive statistics of daily new cases and new deaths per 1,000,000 in Alabama and Georgia\n",
    "\n",
    "|     |  New Cases  |New Death | \n",
    "|------|------------|----------|\n",
    "|      | Mean(SD) |Mean(SD)|\n",
    "| Alabama| 253.6 (108.3)|3.4 (3.0)|\n",
    "|Georgia|195.2 (92.3)| 4.6 (5.0)|\n",
    "\n",
    "\n",
    "Timeseries graphs for daily new cases shows up to September 2020 Alabama daily cases mostly were lower than Georgia but moving forward, Alabama new cases increase compared to Georgia, contrary to what was expected. However, daily new death graph shows that Alabama has lower number of deaths and the trend is more stable compared to Georgia. \n",
    "\n",
    "Results from repeated measured ANOVA shows a statistically difference between daily number of cases (F statistics: 19.684, P- value <0.001) and daily number of death (F statistics: 19.684, P-value:0.029) between Alabama and Georgia. The number of daily new death is higher in Alabama compared to Georgia contrary to our hypothesis, but number of new deaths is lower in Alabama compared to Georgia aligned with our hypothesis.\n",
    "\n",
    "\n",
    "\n",
    "# Discussion:\n",
    "\n",
    "Contrary to my expectations, the number of daily new cases were higher in Alabama compared to Georgia. However, the daily number of new deaths were lower in Alabama compared to Georgia as expected. It is important to note that with choosing Alabama and Georgia as neighbor states that have different mask wearing policies, I was able to minimize the differences in some of the confounding factors such as temperature and demographic configurations. Also, with normalizing the data to the population of the states, the population confounding effect of population density was minimized to some level. However, there are confounding factors that could not be accounted for in this analysis. For example, [social distancing policies include mask wearing but its not limited to that. Social distancing measures include stay at home order, mandatory quarantine, non-essential business closure, large gathering ban, restaurant limits, bar closue](https://www.kff.org/coronavirus-covid-19/issue-brief/state-data-and-policy-actions-to-address-coronavirus/) (10). Even though the main difference in social distancing policy comparing these two states is mask wearing, however, from March to November some of the other social distancing policies got effected and lifted in these two states and thus no causality can be inferred from the findings as they could be confounded by other factors. Also, it is important to note that Georgia has a very limited mask wearing policy for the employees which can affect the rest of the population in terms of practicing mask wearing.  \n",
    "\n",
    "\n",
    "# Conclusions:\n",
    "\n",
    "In conclusion the findings from this research support the hypothesis that mask wearing policy could be associated with lower number of death and thus burden of COVID-19. Eventhough no causality can be inferred, but results support advocating for maskwearing policies to decrease the burden of COVID-19. \n",
    "\n",
    "\n",
    "# References:\n",
    "\n",
    "1- Center for Disease Control Prevention: https://www.cdc.gov/coronavirus/2019-ncov/cases-updates/about-epidemiology/identifying-source-outbreak.html\n",
    "\n",
    "2- John Hopkins University. Corona Virus Resource Center: https://coronavirus.jhu.edu/map.html\n",
    "\n",
    "3- WHO: https://www.who.int/publications/m/item/weekly-epidemiological-update---10-november-2020\n",
    "\n",
    "4- Center for Disease Control Prevention: https://www.cdc.gov/coronavirus/2019-ncov/prevent-getting-sick/cloth-face-cover-guidance.html\n",
    "\n",
    "5- https://masks4all.co/what-states-require-masks/\n",
    "\n",
    "6- https://www.census.gov/quickfacts/GA\n",
    "\n",
    "7- https://www.census.gov/quickfacts/AL\n",
    "\n",
    "8- https://www.cdc.gov/coronavirus/2019-ncov/community/health-equity/race-ethnicity.html\n",
    "\n",
    "9- https://data.cdc.gov/Case-Surveillance/United-States-COVID-19-Cases-and-Deaths-by-State-o/9mfq-cb36\n",
    "\n",
    "10- https://www.kff.org/coronavirus-covid-19/issue-brief/state-data-and-policy-actions-to-address-coronavirus/"
   ]
  },
  {
   "cell_type": "code",
   "execution_count": 1,
   "metadata": {},
   "outputs": [],
   "source": [
    "import pandas as pd\n",
    "import numpy as np\n",
    "import matplotlib.pyplot as plt\n",
    "import seaborn as sns\n",
    "import statsmodels.api as sm\n",
    "import statsmodels.formula.api as smf\n",
    "from statsmodels.stats.anova import anova_lm\n",
    "import pingouin as pg"
   ]
  },
  {
   "cell_type": "markdown",
   "metadata": {},
   "source": [
    "$\\large\\text{Step 1: Select the dataset and cleaning it}$<br>"
   ]
  },
  {
   "cell_type": "markdown",
   "metadata": {},
   "source": [
    "1- Loading the dataset after dowloading it."
   ]
  },
  {
   "cell_type": "code",
   "execution_count": 2,
   "metadata": {},
   "outputs": [],
   "source": [
    "covid_data=  pd.read_csv('/Users/sdibay/Downloads/United_States_COVID-19_Cases_and_Deaths_by_State_over_Time.csv')"
   ]
  },
  {
   "cell_type": "markdown",
   "metadata": {},
   "source": [
    "2- Dropping all states except Georgia and Alabama"
   ]
  },
  {
   "cell_type": "code",
   "execution_count": 3,
   "metadata": {},
   "outputs": [],
   "source": [
    "covid_data_subset = covid_data[(covid_data.state == 'AL')|(covid_data.state == 'GA')]"
   ]
  },
  {
   "cell_type": "markdown",
   "metadata": {},
   "source": [
    "3- Making sure that the date has data type since I will subset the data to cew cases and death between July 17th to November 11th. "
   ]
  },
  {
   "cell_type": "code",
   "execution_count": 4,
   "metadata": {},
   "outputs": [
    {
     "name": "stderr",
     "output_type": "stream",
     "text": [
      "<ipython-input-4-c167b098e8ab>:2: SettingWithCopyWarning: \n",
      "A value is trying to be set on a copy of a slice from a DataFrame.\n",
      "Try using .loc[row_indexer,col_indexer] = value instead\n",
      "\n",
      "See the caveats in the documentation: https://pandas.pydata.org/pandas-docs/stable/user_guide/indexing.html#returning-a-view-versus-a-copy\n",
      "  covid_data_subset['submission_date']= pd.to_datetime(covid_data_subset['submission_date'])\n"
     ]
    }
   ],
   "source": [
    "#changing the submission date to date type\n",
    "covid_data_subset['submission_date']= pd.to_datetime(covid_data_subset['submission_date'])"
   ]
  },
  {
   "cell_type": "markdown",
   "metadata": {},
   "source": [
    "4- Checking dataset and specifically quick descriptive analysis on the new_case and new_death columns"
   ]
  },
  {
   "cell_type": "code",
   "execution_count": 5,
   "metadata": {},
   "outputs": [
    {
     "data": {
      "text/html": [
       "<div>\n",
       "<style scoped>\n",
       "    .dataframe tbody tr th:only-of-type {\n",
       "        vertical-align: middle;\n",
       "    }\n",
       "\n",
       "    .dataframe tbody tr th {\n",
       "        vertical-align: top;\n",
       "    }\n",
       "\n",
       "    .dataframe thead th {\n",
       "        text-align: right;\n",
       "    }\n",
       "</style>\n",
       "<table border=\"1\" class=\"dataframe\">\n",
       "  <thead>\n",
       "    <tr style=\"text-align: right;\">\n",
       "      <th></th>\n",
       "      <th>submission_date</th>\n",
       "      <th>state</th>\n",
       "      <th>tot_cases</th>\n",
       "      <th>conf_cases</th>\n",
       "      <th>prob_cases</th>\n",
       "      <th>new_case</th>\n",
       "      <th>pnew_case</th>\n",
       "      <th>tot_death</th>\n",
       "      <th>conf_death</th>\n",
       "      <th>prob_death</th>\n",
       "      <th>new_death</th>\n",
       "      <th>pnew_death</th>\n",
       "      <th>created_at</th>\n",
       "      <th>consent_cases</th>\n",
       "      <th>consent_deaths</th>\n",
       "    </tr>\n",
       "  </thead>\n",
       "  <tbody>\n",
       "    <tr>\n",
       "      <th>5605</th>\n",
       "      <td>2020-01-22</td>\n",
       "      <td>AL</td>\n",
       "      <td>0</td>\n",
       "      <td>NaN</td>\n",
       "      <td>NaN</td>\n",
       "      <td>0</td>\n",
       "      <td>NaN</td>\n",
       "      <td>0</td>\n",
       "      <td>NaN</td>\n",
       "      <td>NaN</td>\n",
       "      <td>0</td>\n",
       "      <td>NaN</td>\n",
       "      <td>03/26/2020 04:22:39 PM</td>\n",
       "      <td>Agree</td>\n",
       "      <td>Agree</td>\n",
       "    </tr>\n",
       "    <tr>\n",
       "      <th>5606</th>\n",
       "      <td>2020-01-23</td>\n",
       "      <td>AL</td>\n",
       "      <td>0</td>\n",
       "      <td>NaN</td>\n",
       "      <td>NaN</td>\n",
       "      <td>0</td>\n",
       "      <td>NaN</td>\n",
       "      <td>0</td>\n",
       "      <td>NaN</td>\n",
       "      <td>NaN</td>\n",
       "      <td>0</td>\n",
       "      <td>NaN</td>\n",
       "      <td>03/26/2020 04:22:39 PM</td>\n",
       "      <td>Agree</td>\n",
       "      <td>Agree</td>\n",
       "    </tr>\n",
       "    <tr>\n",
       "      <th>5607</th>\n",
       "      <td>2020-01-24</td>\n",
       "      <td>AL</td>\n",
       "      <td>0</td>\n",
       "      <td>NaN</td>\n",
       "      <td>NaN</td>\n",
       "      <td>0</td>\n",
       "      <td>NaN</td>\n",
       "      <td>0</td>\n",
       "      <td>NaN</td>\n",
       "      <td>NaN</td>\n",
       "      <td>0</td>\n",
       "      <td>NaN</td>\n",
       "      <td>03/26/2020 04:22:39 PM</td>\n",
       "      <td>Agree</td>\n",
       "      <td>Agree</td>\n",
       "    </tr>\n",
       "  </tbody>\n",
       "</table>\n",
       "</div>"
      ],
      "text/plain": [
       "     submission_date state  tot_cases  conf_cases  prob_cases  new_case  \\\n",
       "5605      2020-01-22    AL          0         NaN         NaN         0   \n",
       "5606      2020-01-23    AL          0         NaN         NaN         0   \n",
       "5607      2020-01-24    AL          0         NaN         NaN         0   \n",
       "\n",
       "      pnew_case  tot_death  conf_death  prob_death  new_death  pnew_death  \\\n",
       "5605        NaN          0         NaN         NaN          0         NaN   \n",
       "5606        NaN          0         NaN         NaN          0         NaN   \n",
       "5607        NaN          0         NaN         NaN          0         NaN   \n",
       "\n",
       "                  created_at consent_cases consent_deaths  \n",
       "5605  03/26/2020 04:22:39 PM         Agree          Agree  \n",
       "5606  03/26/2020 04:22:39 PM         Agree          Agree  \n",
       "5607  03/26/2020 04:22:39 PM         Agree          Agree  "
      ]
     },
     "execution_count": 5,
     "metadata": {},
     "output_type": "execute_result"
    }
   ],
   "source": [
    "covid_data_subset.head(3)"
   ]
  },
  {
   "cell_type": "code",
   "execution_count": 6,
   "metadata": {},
   "outputs": [
    {
     "data": {
      "text/html": [
       "<div>\n",
       "<style scoped>\n",
       "    .dataframe tbody tr th:only-of-type {\n",
       "        vertical-align: middle;\n",
       "    }\n",
       "\n",
       "    .dataframe tbody tr th {\n",
       "        vertical-align: top;\n",
       "    }\n",
       "\n",
       "    .dataframe thead th {\n",
       "        text-align: right;\n",
       "    }\n",
       "</style>\n",
       "<table border=\"1\" class=\"dataframe\">\n",
       "  <thead>\n",
       "    <tr style=\"text-align: right;\">\n",
       "      <th></th>\n",
       "      <th>count</th>\n",
       "      <th>mean</th>\n",
       "      <th>std</th>\n",
       "      <th>min</th>\n",
       "      <th>25%</th>\n",
       "      <th>50%</th>\n",
       "      <th>75%</th>\n",
       "      <th>max</th>\n",
       "    </tr>\n",
       "    <tr>\n",
       "      <th>state</th>\n",
       "      <th></th>\n",
       "      <th></th>\n",
       "      <th></th>\n",
       "      <th></th>\n",
       "      <th></th>\n",
       "      <th></th>\n",
       "      <th></th>\n",
       "      <th></th>\n",
       "    </tr>\n",
       "  </thead>\n",
       "  <tbody>\n",
       "    <tr>\n",
       "      <th>AL</th>\n",
       "      <td>295.0</td>\n",
       "      <td>707.244068</td>\n",
       "      <td>672.462928</td>\n",
       "      <td>-211.0</td>\n",
       "      <td>80.5</td>\n",
       "      <td>571.0</td>\n",
       "      <td>1146.0</td>\n",
       "      <td>3852.0</td>\n",
       "    </tr>\n",
       "    <tr>\n",
       "      <th>GA</th>\n",
       "      <td>295.0</td>\n",
       "      <td>1280.318644</td>\n",
       "      <td>1162.590095</td>\n",
       "      <td>-19.0</td>\n",
       "      <td>339.0</td>\n",
       "      <td>973.0</td>\n",
       "      <td>1873.5</td>\n",
       "      <td>4813.0</td>\n",
       "    </tr>\n",
       "  </tbody>\n",
       "</table>\n",
       "</div>"
      ],
      "text/plain": [
       "       count         mean          std    min    25%    50%     75%     max\n",
       "state                                                                      \n",
       "AL     295.0   707.244068   672.462928 -211.0   80.5  571.0  1146.0  3852.0\n",
       "GA     295.0  1280.318644  1162.590095  -19.0  339.0  973.0  1873.5  4813.0"
      ]
     },
     "execution_count": 6,
     "metadata": {},
     "output_type": "execute_result"
    }
   ],
   "source": [
    "covid_data_subset.groupby('state')['new_case'].describe()"
   ]
  },
  {
   "cell_type": "code",
   "execution_count": 7,
   "metadata": {},
   "outputs": [
    {
     "data": {
      "text/html": [
       "<div>\n",
       "<style scoped>\n",
       "    .dataframe tbody tr th:only-of-type {\n",
       "        vertical-align: middle;\n",
       "    }\n",
       "\n",
       "    .dataframe tbody tr th {\n",
       "        vertical-align: top;\n",
       "    }\n",
       "\n",
       "    .dataframe thead th {\n",
       "        text-align: right;\n",
       "    }\n",
       "</style>\n",
       "<table border=\"1\" class=\"dataframe\">\n",
       "  <thead>\n",
       "    <tr style=\"text-align: right;\">\n",
       "      <th></th>\n",
       "      <th>count</th>\n",
       "      <th>mean</th>\n",
       "      <th>std</th>\n",
       "      <th>min</th>\n",
       "      <th>25%</th>\n",
       "      <th>50%</th>\n",
       "      <th>75%</th>\n",
       "      <th>max</th>\n",
       "    </tr>\n",
       "    <tr>\n",
       "      <th>state</th>\n",
       "      <th></th>\n",
       "      <th></th>\n",
       "      <th></th>\n",
       "      <th></th>\n",
       "      <th></th>\n",
       "      <th></th>\n",
       "      <th></th>\n",
       "      <th></th>\n",
       "    </tr>\n",
       "  </thead>\n",
       "  <tbody>\n",
       "    <tr>\n",
       "      <th>AL</th>\n",
       "      <td>295.0</td>\n",
       "      <td>10.850847</td>\n",
       "      <td>13.019012</td>\n",
       "      <td>-18.0</td>\n",
       "      <td>0.0</td>\n",
       "      <td>7.0</td>\n",
       "      <td>17.0</td>\n",
       "      <td>81.0</td>\n",
       "    </tr>\n",
       "    <tr>\n",
       "      <th>GA</th>\n",
       "      <td>295.0</td>\n",
       "      <td>29.850847</td>\n",
       "      <td>40.099258</td>\n",
       "      <td>-91.0</td>\n",
       "      <td>3.0</td>\n",
       "      <td>25.0</td>\n",
       "      <td>43.0</td>\n",
       "      <td>507.0</td>\n",
       "    </tr>\n",
       "  </tbody>\n",
       "</table>\n",
       "</div>"
      ],
      "text/plain": [
       "       count       mean        std   min  25%   50%   75%    max\n",
       "state                                                           \n",
       "AL     295.0  10.850847  13.019012 -18.0  0.0   7.0  17.0   81.0\n",
       "GA     295.0  29.850847  40.099258 -91.0  3.0  25.0  43.0  507.0"
      ]
     },
     "execution_count": 7,
     "metadata": {},
     "output_type": "execute_result"
    }
   ],
   "source": [
    "covid_data_subset.groupby('state')['new_death'].describe()"
   ]
  },
  {
   "cell_type": "markdown",
   "metadata": {},
   "source": [
    "5- Dropping dates before July 17th since this is the date that mask wearing law got effective in Alabama so we compare cases/deaths in two sates after this date.\n",
    "\n",
    "6- We see that we have negative numbers in the dataset for new cases and new death. Per CDC [\"Because these provisional counts are subject to change, including updates to data reported previously, adjustments can occur. These adjustments can result in fewer total numbers of cases and deaths compared with the previous data, which means that new numbers of cases or deaths can include negative values that reflect such adjustments.\"](https://data.cdc.gov/Case-Surveillance/United-States-COVID-19-Cases-and-Deaths-by-State-o/9mfq-cb36). For the purpose of the timeseries graph,  rows with negative new cases and new deaths are dropped. However, for the purpose of hypothesis testing, the negative cases and deaths will not be dropped to adjust for the counts in number of new cases and new deaths as discussed above."
   ]
  },
  {
   "cell_type": "code",
   "execution_count": 8,
   "metadata": {},
   "outputs": [],
   "source": [
    "#drop rows with date before July 17th \n",
    "res= covid_data_subset[covid_data_subset[\"submission_date\"] > '2020-07-17'] "
   ]
  },
  {
   "cell_type": "markdown",
   "metadata": {},
   "source": [
    "7- Reseting indexes to be able to properly access the data and create new columns"
   ]
  },
  {
   "cell_type": "code",
   "execution_count": 9,
   "metadata": {},
   "outputs": [],
   "source": [
    "# reseting indexes\n",
    "res= res.reset_index(drop=True)"
   ]
  },
  {
   "cell_type": "markdown",
   "metadata": {},
   "source": [
    "8- Creating new cases per 1,000,000 and new death per 1,000,000 for two states normalized for the population in these states. This step is done so the numbers in two states become comparable.\n",
    "\n",
    "[Georgia population estimates by July 1, 2019 is 10,617,423](https://www.census.gov/quickfacts/GA)\n",
    "\n",
    "[Alabama population estimates by July 1, 2019 is\t4,903,185](https://www.census.gov/quickfacts/AL)"
   ]
  },
  {
   "cell_type": "code",
   "execution_count": 10,
   "metadata": {},
   "outputs": [],
   "source": [
    "# creating two columns to calculate new cases and new deaths per 1,000,000 \n",
    "\n",
    "# create emply 'new_case_per1000000' column\n",
    "res['new_case_per1000000'] = \"\"\n",
    "\n",
    "# create emply 'new_death_per1000000' column\n",
    "res['new_death_per1000000'] = \"\"\n",
    "\n",
    "# for loop that iterates through new_case and new_death columns and create the normalized new_case_per1000000 \n",
    "#and new_death per 1000000 columns\n",
    "for i in range(len(res)):\n",
    "    if (res.at[i,'state']=='AL'):\n",
    "        res.at[i,'new_case_per1000000'] =  res.at[i,'new_case']/4903185.0*1000000.0\n",
    "        res.at[i,'new_death_per1000000'] =  res.at[i,'new_death']/4903185.0*1000000.0\n",
    "    if (res.at[i,'state']=='GA'):\n",
    "        res.at[i,'new_case_per1000000'] =  res.at[i,'new_case']/10617423.0*1000000.0 \n",
    "        res.at[i,'new_death_per1000000'] =  res.at[i,'new_death']/10617423.0*1000000.0"
   ]
  },
  {
   "cell_type": "markdown",
   "metadata": {},
   "source": [
    "9- Saving two columns as numerical to make sure the ANOVA models work"
   ]
  },
  {
   "cell_type": "code",
   "execution_count": 11,
   "metadata": {},
   "outputs": [],
   "source": [
    "# changing 'new_case_per1000000' from previous step to numeric\n",
    "res['new_case_per1000000']=pd.to_numeric(res['new_case_per1000000'])\n",
    "\n",
    "# changing 'new_death_per1000000' from previous step to numeric\n",
    "res['new_death_per1000000']=pd.to_numeric(res['new_death_per1000000'])"
   ]
  },
  {
   "cell_type": "markdown",
   "metadata": {},
   "source": [
    "10- Making sure rows that have negative new_case and new_death are ommited for the purpose of timeseries graph."
   ]
  },
  {
   "cell_type": "code",
   "execution_count": 12,
   "metadata": {},
   "outputs": [],
   "source": [
    "res_one= res[res[\"new_case_per1000000\"] > 0] \n",
    "res_one= res[res[\"new_death_per1000000\"] > 0] "
   ]
  },
  {
   "cell_type": "markdown",
   "metadata": {},
   "source": [
    "$\\large\\text{Step 2: Descriptive Statistical Analysis}$<br>"
   ]
  },
  {
   "cell_type": "markdown",
   "metadata": {},
   "source": [
    "Describing the normalized new cases and new death for two states. The mean of new daily new cases is higher in Alabama compared to Georgia contrary to what was expected. The minimum of daily new cases however is lower in Alabama compared to Georgia (0.40 vs. 1.32 cases per 1,000,000).  "
   ]
  },
  {
   "cell_type": "code",
   "execution_count": 13,
   "metadata": {},
   "outputs": [
    {
     "data": {
      "text/html": [
       "<div>\n",
       "<style scoped>\n",
       "    .dataframe tbody tr th:only-of-type {\n",
       "        vertical-align: middle;\n",
       "    }\n",
       "\n",
       "    .dataframe tbody tr th {\n",
       "        vertical-align: top;\n",
       "    }\n",
       "\n",
       "    .dataframe thead th {\n",
       "        text-align: right;\n",
       "    }\n",
       "</style>\n",
       "<table border=\"1\" class=\"dataframe\">\n",
       "  <thead>\n",
       "    <tr style=\"text-align: right;\">\n",
       "      <th></th>\n",
       "      <th>count</th>\n",
       "      <th>mean</th>\n",
       "      <th>std</th>\n",
       "      <th>min</th>\n",
       "      <th>25%</th>\n",
       "      <th>50%</th>\n",
       "      <th>75%</th>\n",
       "      <th>max</th>\n",
       "    </tr>\n",
       "    <tr>\n",
       "      <th>state</th>\n",
       "      <th></th>\n",
       "      <th></th>\n",
       "      <th></th>\n",
       "      <th></th>\n",
       "      <th></th>\n",
       "      <th></th>\n",
       "      <th></th>\n",
       "      <th></th>\n",
       "    </tr>\n",
       "  </thead>\n",
       "  <tbody>\n",
       "    <tr>\n",
       "      <th>AL</th>\n",
       "      <td>117.0</td>\n",
       "      <td>253.601076</td>\n",
       "      <td>108.341133</td>\n",
       "      <td>0.407898</td>\n",
       "      <td>175.192247</td>\n",
       "      <td>233.929578</td>\n",
       "      <td>303.884108</td>\n",
       "      <td>785.611801</td>\n",
       "    </tr>\n",
       "    <tr>\n",
       "      <th>GA</th>\n",
       "      <td>117.0</td>\n",
       "      <td>195.220967</td>\n",
       "      <td>92.304528</td>\n",
       "      <td>56.134149</td>\n",
       "      <td>124.135584</td>\n",
       "      <td>172.734947</td>\n",
       "      <td>241.584045</td>\n",
       "      <td>453.311505</td>\n",
       "    </tr>\n",
       "  </tbody>\n",
       "</table>\n",
       "</div>"
      ],
      "text/plain": [
       "       count        mean         std        min         25%         50%  \\\n",
       "state                                                                     \n",
       "AL     117.0  253.601076  108.341133   0.407898  175.192247  233.929578   \n",
       "GA     117.0  195.220967   92.304528  56.134149  124.135584  172.734947   \n",
       "\n",
       "              75%         max  \n",
       "state                          \n",
       "AL     303.884108  785.611801  \n",
       "GA     241.584045  453.311505  "
      ]
     },
     "execution_count": 13,
     "metadata": {},
     "output_type": "execute_result"
    }
   ],
   "source": [
    "# mean, and range\n",
    "res.groupby('state')['new_case_per1000000'].describe()"
   ]
  },
  {
   "cell_type": "code",
   "execution_count": 23,
   "metadata": {},
   "outputs": [
    {
     "data": {
      "text/plain": [
       "state\n",
       "AL    108.341133\n",
       "GA     92.304528\n",
       "Name: new_case_per1000000, dtype: float64"
      ]
     },
     "execution_count": 23,
     "metadata": {},
     "output_type": "execute_result"
    }
   ],
   "source": [
    "# standard deviation for new cases\n",
    "res.groupby('state')['new_case_per1000000'].std()"
   ]
  },
  {
   "cell_type": "code",
   "execution_count": 14,
   "metadata": {},
   "outputs": [
    {
     "data": {
      "text/html": [
       "<div>\n",
       "<style scoped>\n",
       "    .dataframe tbody tr th:only-of-type {\n",
       "        vertical-align: middle;\n",
       "    }\n",
       "\n",
       "    .dataframe tbody tr th {\n",
       "        vertical-align: top;\n",
       "    }\n",
       "\n",
       "    .dataframe thead th {\n",
       "        text-align: right;\n",
       "    }\n",
       "</style>\n",
       "<table border=\"1\" class=\"dataframe\">\n",
       "  <thead>\n",
       "    <tr style=\"text-align: right;\">\n",
       "      <th></th>\n",
       "      <th>count</th>\n",
       "      <th>mean</th>\n",
       "      <th>std</th>\n",
       "      <th>min</th>\n",
       "      <th>25%</th>\n",
       "      <th>50%</th>\n",
       "      <th>75%</th>\n",
       "      <th>max</th>\n",
       "    </tr>\n",
       "    <tr>\n",
       "      <th>state</th>\n",
       "      <th></th>\n",
       "      <th></th>\n",
       "      <th></th>\n",
       "      <th></th>\n",
       "      <th></th>\n",
       "      <th></th>\n",
       "      <th></th>\n",
       "      <th></th>\n",
       "    </tr>\n",
       "  </thead>\n",
       "  <tbody>\n",
       "    <tr>\n",
       "      <th>AL</th>\n",
       "      <td>117.0</td>\n",
       "      <td>3.378233</td>\n",
       "      <td>3.02166</td>\n",
       "      <td>-1.835542</td>\n",
       "      <td>1.019745</td>\n",
       "      <td>3.263185</td>\n",
       "      <td>4.894778</td>\n",
       "      <td>16.519874</td>\n",
       "    </tr>\n",
       "    <tr>\n",
       "      <th>GA</th>\n",
       "      <td>117.0</td>\n",
       "      <td>4.567561</td>\n",
       "      <td>5.03283</td>\n",
       "      <td>-8.570818</td>\n",
       "      <td>2.354620</td>\n",
       "      <td>3.767393</td>\n",
       "      <td>5.933643</td>\n",
       "      <td>47.751700</td>\n",
       "    </tr>\n",
       "  </tbody>\n",
       "</table>\n",
       "</div>"
      ],
      "text/plain": [
       "       count      mean      std       min       25%       50%       75%  \\\n",
       "state                                                                     \n",
       "AL     117.0  3.378233  3.02166 -1.835542  1.019745  3.263185  4.894778   \n",
       "GA     117.0  4.567561  5.03283 -8.570818  2.354620  3.767393  5.933643   \n",
       "\n",
       "             max  \n",
       "state             \n",
       "AL     16.519874  \n",
       "GA     47.751700  "
      ]
     },
     "execution_count": 14,
     "metadata": {},
     "output_type": "execute_result"
    }
   ],
   "source": [
    "res.groupby('state')['new_death_per1000000'].describe()"
   ]
  },
  {
   "cell_type": "code",
   "execution_count": 25,
   "metadata": {},
   "outputs": [
    {
     "data": {
      "text/plain": [
       "state\n",
       "AL    3.02166\n",
       "GA    5.03283\n",
       "Name: new_death_per1000000, dtype: float64"
      ]
     },
     "execution_count": 25,
     "metadata": {},
     "output_type": "execute_result"
    }
   ],
   "source": [
    "# standard deviation for new deaths\n",
    "res.groupby('state')['new_death_per1000000'].std()"
   ]
  },
  {
   "cell_type": "markdown",
   "metadata": {},
   "source": [
    "Creating distributions of daily new_cases per 1,000,0000 and new_death per 1,000,000 from July 17th to November 11th.\n",
    "We can observe that the distributions of the days with certain number of new cases and new deaths are differnt between the states. "
   ]
  },
  {
   "cell_type": "code",
   "execution_count": 15,
   "metadata": {},
   "outputs": [
    {
     "data": {
      "text/plain": [
       "<matplotlib.legend.Legend at 0x1085f0b50>"
      ]
     },
     "execution_count": 15,
     "metadata": {},
     "output_type": "execute_result"
    },
    {
     "data": {
      "image/png": "[encoded data removed]",
      "text/plain": [
       "<Figure size 410.625x360 with 1 Axes>"
      ]
     },
     "metadata": {
      "needs_background": "light"
     },
     "output_type": "display_data"
    }
   ],
   "source": [
    "#plotting the distribution of new cases for Georgia and Alabama\n",
    "sns.displot(res, x=\"new_case_per1000000\", hue=\"state\")\n",
    "plt.legend(title='States', loc='upper right', labels=['Georgia', 'Alabama'])\n",
    "\n"
   ]
  },
  {
   "cell_type": "code",
   "execution_count": 16,
   "metadata": {},
   "outputs": [
    {
     "data": {
      "text/plain": [
       "<matplotlib.legend.Legend at 0x11fff07c0>"
      ]
     },
     "execution_count": 16,
     "metadata": {},
     "output_type": "execute_result"
    },
    {
     "data": {
      "image/png": "[encoded data removed]",
      "text/plain": [
       "<Figure size 410.625x360 with 1 Axes>"
      ]
     },
     "metadata": {
      "needs_background": "light"
     },
     "output_type": "display_data"
    }
   ],
   "source": [
    "#plotting the distribution of new death for Georgia and Alabama\n",
    "sns.displot(res, x=\"new_death_per1000000\", hue=\"state\")\n",
    "plt.legend(title='States', loc='upper right', labels=['Georgia', 'Alabama'])"
   ]
  },
  {
   "cell_type": "code",
   "execution_count": 21,
   "metadata": {},
   "outputs": [
    {
     "data": {
      "text/plain": [
       "<AxesSubplot:xlabel='submission_date', ylabel='new_case_per1000000'>"
      ]
     },
     "execution_count": 21,
     "metadata": {},
     "output_type": "execute_result"
    },
    {
     "data": {
      "image/png": "[encoded data removed]",
      "text/plain": [
       "<Figure size 842.4x595.44 with 1 Axes>"
      ]
     },
     "metadata": {},
     "output_type": "display_data"
    }
   ],
   "source": [
    "sns.set_theme(style=\"whitegrid\")\n",
    "sns.set_context(\"notebook\", font_scale=0.25, rc={\"lines.linewidth\": 2.5})\n",
    "sns.set(rc={'figure.figsize':(11.7,8.27)})\n",
    "# Load an example dataset with long-form data\n",
    "# Plot the responses for different events and regions\n",
    "sns.lineplot(x=\"submission_date\", y=\"new_case_per1000000\",\n",
    "             hue=\"state\",\n",
    "             data=res_one)\n",
    "#plt.legend(title='States', loc='upper right', labels=['Alabama', 'Georgia'])"
   ]
  },
  {
   "cell_type": "code",
   "execution_count": 22,
   "metadata": {
    "scrolled": true
   },
   "outputs": [
    {
     "data": {
      "text/plain": [
       "<matplotlib.legend.Legend at 0x120c15250>"
      ]
     },
     "execution_count": 22,
     "metadata": {},
     "output_type": "execute_result"
    },
    {
     "data": {
      "image/png": "[encoded data removed]",
      "text/plain": [
       "<Figure size 842.4x595.44 with 1 Axes>"
      ]
     },
     "metadata": {},
     "output_type": "display_data"
    }
   ],
   "source": [
    "sns.set_theme(style=\"whitegrid\")\n",
    "sns.set_context(\"notebook\", font_scale=0.25, rc={\"lines.linewidth\": 2.5})\n",
    "sns.set(rc={'figure.figsize':(11.7,8.27)})\n",
    "# Load an example dataset with long-form data\n",
    "# Plot the responses for different events and regions\n",
    "sns.lineplot(x=\"submission_date\", y=\"new_death_per1000000\",\n",
    "             hue=\"state\",\n",
    "             data=res_one)\n",
    "plt.legend(title='States', loc='upper right', labels=['Alabama', 'Georgia'])"
   ]
  },
  {
   "cell_type": "code",
   "execution_count": null,
   "metadata": {},
   "outputs": [],
   "source": [
    "$\\large\\text{Step 2: Hypothesis testing}$<br>"
   ]
  },
  {
   "cell_type": "code",
   "execution_count": 19,
   "metadata": {},
   "outputs": [
    {
     "data": {
      "text/html": [
       "<div>\n",
       "<style scoped>\n",
       "    .dataframe tbody tr th:only-of-type {\n",
       "        vertical-align: middle;\n",
       "    }\n",
       "\n",
       "    .dataframe tbody tr th {\n",
       "        vertical-align: top;\n",
       "    }\n",
       "\n",
       "    .dataframe thead th {\n",
       "        text-align: right;\n",
       "    }\n",
       "</style>\n",
       "<table border=\"1\" class=\"dataframe\">\n",
       "  <thead>\n",
       "    <tr style=\"text-align: right;\">\n",
       "      <th></th>\n",
       "      <th>Source</th>\n",
       "      <th>ddof1</th>\n",
       "      <th>ddof2</th>\n",
       "      <th>F</th>\n",
       "      <th>p-unc</th>\n",
       "      <th>np2</th>\n",
       "    </tr>\n",
       "  </thead>\n",
       "  <tbody>\n",
       "    <tr>\n",
       "      <th>0</th>\n",
       "      <td>state</td>\n",
       "      <td>1</td>\n",
       "      <td>232</td>\n",
       "      <td>19.684</td>\n",
       "      <td>0.0</td>\n",
       "      <td>0.078</td>\n",
       "    </tr>\n",
       "  </tbody>\n",
       "</table>\n",
       "</div>"
      ],
      "text/plain": [
       "  Source  ddof1  ddof2       F  p-unc    np2\n",
       "0  state      1    232  19.684    0.0  0.078"
      ]
     },
     "execution_count": 19,
     "metadata": {},
     "output_type": "execute_result"
    }
   ],
   "source": [
    "# repeated measured ANOVA testing to compare the mean of new cases per 1,000,000 comparing two states\n",
    "res.anova(dv=\"new_case_per1000000\", between=['state']).round(3)\n"
   ]
  },
  {
   "cell_type": "code",
   "execution_count": 20,
   "metadata": {},
   "outputs": [
    {
     "data": {
      "text/html": [
       "<div>\n",
       "<style scoped>\n",
       "    .dataframe tbody tr th:only-of-type {\n",
       "        vertical-align: middle;\n",
       "    }\n",
       "\n",
       "    .dataframe tbody tr th {\n",
       "        vertical-align: top;\n",
       "    }\n",
       "\n",
       "    .dataframe thead th {\n",
       "        text-align: right;\n",
       "    }\n",
       "</style>\n",
       "<table border=\"1\" class=\"dataframe\">\n",
       "  <thead>\n",
       "    <tr style=\"text-align: right;\">\n",
       "      <th></th>\n",
       "      <th>Source</th>\n",
       "      <th>ddof1</th>\n",
       "      <th>ddof2</th>\n",
       "      <th>F</th>\n",
       "      <th>p-unc</th>\n",
       "      <th>np2</th>\n",
       "    </tr>\n",
       "  </thead>\n",
       "  <tbody>\n",
       "    <tr>\n",
       "      <th>0</th>\n",
       "      <td>state</td>\n",
       "      <td>1</td>\n",
       "      <td>232</td>\n",
       "      <td>4.803</td>\n",
       "      <td>0.029</td>\n",
       "      <td>0.02</td>\n",
       "    </tr>\n",
       "  </tbody>\n",
       "</table>\n",
       "</div>"
      ],
      "text/plain": [
       "  Source  ddof1  ddof2      F  p-unc   np2\n",
       "0  state      1    232  4.803  0.029  0.02"
      ]
     },
     "execution_count": 20,
     "metadata": {},
     "output_type": "execute_result"
    }
   ],
   "source": [
    "## repeated measured ANOVA testing to compare the mean of new deaths per 1,000,000 comparing two states\n",
    "res.anova(dv=\"new_death_per1000000\", between=['state']).round(3)"
   ]
  }
 ],
 "metadata": {
  "kernelspec": {
   "display_name": "Python 3",
   "language": "python",
   "name": "python3"
  },
  "language_info": {
   "codemirror_mode": {
    "name": "ipython",
    "version": 3
   },
   "file_extension": ".py",
   "mimetype": "text/x-python",
   "name": "python",
   "nbconvert_exporter": "python",
   "pygments_lexer": "ipython3",
   "version": "3.8.5"
  }
 },
 "nbformat": 4,
 "nbformat_minor": 4
}
